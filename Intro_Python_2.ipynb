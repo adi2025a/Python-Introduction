{
 "cells": [
  {
   "cell_type": "markdown",
   "id": "50252d79-fbe1-4c6a-9aed-576597935c08",
   "metadata": {},
   "source": [
    "# Conditional logic"
   ]
  },
  {
   "cell_type": "markdown",
   "id": "a42460a3-ab7d-43c8-a127-cf1c780287ab",
   "metadata": {},
   "source": [
    "## if-else-elif"
   ]
  },
  {
   "cell_type": "markdown",
   "id": "9ffb4ebf-1432-40c9-ad04-70db279e0c8a",
   "metadata": {},
   "source": [
    "`if` condition 1`:`\n",
    "\n",
    "    body to execute \n",
    "    \n",
    "`elif` condition 2`:`\n",
    "\n",
    "    body to execute\n",
    "    \n",
    "`else:`\n",
    "\n",
    "    deafult body "
   ]
  },
  {
   "cell_type": "code",
   "execution_count": 10,
   "id": "0e8ecfd4-b9a3-49eb-95bd-996be84b016f",
   "metadata": {},
   "outputs": [
    {
     "name": "stdout",
     "output_type": "stream",
     "text": [
      "B\n"
     ]
    }
   ],
   "source": [
    "a = 3\n",
    "\n",
    "if a ==1:                    # condition 1 \n",
    "    print(\"A\")             \n",
    "elif a == 3:                 # condition 2\n",
    "    print(\"B\")\n",
    "else :                       # Deafult body (if not any condition is fullfilled.)\n",
    "    print(\"C\")\n"
   ]
  },
  {
   "cell_type": "markdown",
   "id": "362841be-6645-4e45-913f-b6163ccc861d",
   "metadata": {},
   "source": [
    "# Truthy and Falsey"
   ]
  },
  {
   "cell_type": "code",
   "execution_count": 11,
   "id": "3c8f3ba9-e9e4-46b2-b429-2c0cc632815d",
   "metadata": {},
   "outputs": [
    {
     "name": "stdout",
     "output_type": "stream",
     "text": [
      "True\n"
     ]
    }
   ],
   "source": [
    "print(bool('Hello'))          # Any non empty string is considered as truthy."
   ]
  },
  {
   "cell_type": "code",
   "execution_count": 12,
   "id": "964a403c-1194-4f46-ae55-4fe385689c86",
   "metadata": {},
   "outputs": [
    {
     "name": "stdout",
     "output_type": "stream",
     "text": [
      "False\n"
     ]
    }
   ],
   "source": [
    "print(bool(''))               # Empty strings is considered as falsey."
   ]
  },
  {
   "cell_type": "code",
   "execution_count": 13,
   "id": "758d518f-d9f6-4cff-b98a-286089490b8c",
   "metadata": {},
   "outputs": [
    {
     "name": "stdout",
     "output_type": "stream",
     "text": [
      "True\n"
     ]
    }
   ],
   "source": [
    "print(bool(5))                # Any non-number is considered as Truthy."
   ]
  },
  {
   "cell_type": "code",
   "execution_count": 14,
   "id": "2cafa2d5-88a6-406b-a1c0-64970a5f763b",
   "metadata": {},
   "outputs": [
    {
     "name": "stdout",
     "output_type": "stream",
     "text": [
      "False\n"
     ]
    }
   ],
   "source": [
    "print(bool(0))                # Zero is considered as Falsey."
   ]
  },
  {
   "cell_type": "markdown",
   "id": "eec8cf26-a39c-4af9-83f0-f1c8f90a5fd3",
   "metadata": {},
   "source": [
    "# Ternary Operator "
   ]
  },
  {
   "cell_type": "markdown",
   "id": "bb07678d-da4e-4c99-9d91-c35b1907dae7",
   "metadata": {},
   "source": [
    "if true `if` conditon `else` if false "
   ]
  },
  {
   "cell_type": "code",
   "execution_count": 16,
   "id": "b15f59bb-ca1e-4b29-a977-60edbb580050",
   "metadata": {},
   "outputs": [
    {
     "name": "stdout",
     "output_type": "stream",
     "text": [
      "A\n"
     ]
    }
   ],
   "source": [
    "a =3 \n",
    "print('A') if a == 3 else print('B')"
   ]
  },
  {
   "cell_type": "code",
   "execution_count": 17,
   "id": "4633b39f-5eaf-4e15-8f1b-029a4b72e73a",
   "metadata": {},
   "outputs": [
    {
     "name": "stdout",
     "output_type": "stream",
     "text": [
      "B\n"
     ]
    }
   ],
   "source": [
    "a = 4\n",
    "print('A') if a == 3 else print('B')"
   ]
  },
  {
   "cell_type": "markdown",
   "id": "6ad0d260-0105-49ff-84fc-d4e888610e4f",
   "metadata": {},
   "source": [
    "# Logical Operators"
   ]
  },
  {
   "cell_type": "markdown",
   "id": "abdf6fe2-3edf-4ee0-999e-cf7da89162e7",
   "metadata": {},
   "source": [
    "a `>`b      :is a greater than b \n",
    "\n",
    "a `<`b      :is a smaller than b \n",
    "\n",
    "a `>=` b     :is a greater than or equals to b\n",
    "\n",
    "a `<=` b     :is a smaller than or equals to b\n",
    "\n",
    "a `==` b     :is a equals to b \n",
    "\n",
    "a `!=` b     :is a not equals to b \n",
    "\n",
    "a `and` b    :is a and b both are true \n",
    "\n",
    "a `or` b     :is a or b , one of these are true\n",
    "\n",
    "`not`a       :gives opposite value of a "
   ]
  },
  {
   "cell_type": "code",
   "execution_count": 18,
   "id": "cc053d92-249a-41e1-af31-9b09981552ee",
   "metadata": {},
   "outputs": [
    {
     "name": "stdout",
     "output_type": "stream",
     "text": [
      "False\n"
     ]
    }
   ],
   "source": [
    "print(4 > 5)"
   ]
  },
  {
   "cell_type": "code",
   "execution_count": 20,
   "id": "8812c4f9-e497-449a-bd4f-81b3a4e46845",
   "metadata": {},
   "outputs": [
    {
     "name": "stdout",
     "output_type": "stream",
     "text": [
      "True\n"
     ]
    }
   ],
   "source": [
    "print(4 != 5)"
   ]
  },
  {
   "cell_type": "markdown",
   "id": "aa6b88a5-1802-42ab-99de-06ddec49b3a4",
   "metadata": {},
   "source": [
    "Ascii (American Standard Code for Information Interchange) Value \n",
    "\n",
    "ASCII value of `a` : 97\n",
    "\n",
    "ASCII value of `A` : 65"
   ]
  },
  {
   "cell_type": "code",
   "execution_count": 19,
   "id": "b8478f52-e63d-4abd-a03a-aa5e6bd71b5f",
   "metadata": {},
   "outputs": [
    {
     "name": "stdout",
     "output_type": "stream",
     "text": [
      "True\n"
     ]
    }
   ],
   "source": [
    "print('a' > 'A')"
   ]
  },
  {
   "cell_type": "code",
   "execution_count": 21,
   "id": "4dc81654-21f1-4cdc-9d47-fb6781d500bc",
   "metadata": {},
   "outputs": [
    {
     "name": "stdout",
     "output_type": "stream",
     "text": [
      "True\n"
     ]
    }
   ],
   "source": [
    "print(1<2<3<4)"
   ]
  },
  {
   "cell_type": "code",
   "execution_count": 22,
   "id": "59ece0e1-3e0c-4912-b070-512372c9ecaf",
   "metadata": {},
   "outputs": [
    {
     "name": "stdout",
     "output_type": "stream",
     "text": [
      "True\n",
      "False\n"
     ]
    }
   ],
   "source": [
    "a = True\n",
    "b = False \n",
    "print (a or b)\n",
    "print(a and b) "
   ]
  },
  {
   "cell_type": "code",
   "execution_count": 24,
   "id": "388b3a52-6f14-423d-9ec7-220ad46f6694",
   "metadata": {},
   "outputs": [
    {
     "name": "stdout",
     "output_type": "stream",
     "text": [
      "False\n",
      "True\n"
     ]
    }
   ],
   "source": [
    "print(not(a))\n",
    "print(not(b))"
   ]
  },
  {
   "cell_type": "markdown",
   "id": "07228ff4-2590-47e0-bed1-a26236e5cfca",
   "metadata": {},
   "source": [
    "# 'is' vs '=='\n",
    "`True` is a logical operator while\n",
    "`is` checks : Is the location of memory same or different "
   ]
  },
  {
   "cell_type": "code",
   "execution_count": 6,
   "id": "985a634b-c24c-485b-973d-7835daa74d2b",
   "metadata": {},
   "outputs": [
    {
     "name": "stdout",
     "output_type": "stream",
     "text": [
      "True\n",
      "False\n",
      "False\n",
      "True\n",
      "True\n"
     ]
    }
   ],
   "source": [
    "print(True == 1)\n",
    "print('1' == 1)\n",
    "print([] == 1)\n",
    "print(10 == 10.0)\n",
    "print([1,2,3] == [1,2,3])"
   ]
  },
  {
   "cell_type": "code",
   "execution_count": 7,
   "id": "1d6a9ccf-04dd-4b94-86ce-c185c37ceee4",
   "metadata": {},
   "outputs": [
    {
     "name": "stdout",
     "output_type": "stream",
     "text": [
      "False\n",
      "False\n",
      "False\n",
      "False\n",
      "False\n"
     ]
    },
    {
     "name": "stderr",
     "output_type": "stream",
     "text": [
      "<>:1: SyntaxWarning: \"is\" with 'int' literal. Did you mean \"==\"?\n",
      "<>:2: SyntaxWarning: \"is\" with 'str' literal. Did you mean \"==\"?\n",
      "<>:3: SyntaxWarning: \"is\" with 'int' literal. Did you mean \"==\"?\n",
      "<>:4: SyntaxWarning: \"is\" with 'int' literal. Did you mean \"==\"?\n",
      "<>:1: SyntaxWarning: \"is\" with 'int' literal. Did you mean \"==\"?\n",
      "<>:2: SyntaxWarning: \"is\" with 'str' literal. Did you mean \"==\"?\n",
      "<>:3: SyntaxWarning: \"is\" with 'int' literal. Did you mean \"==\"?\n",
      "<>:4: SyntaxWarning: \"is\" with 'int' literal. Did you mean \"==\"?\n",
      "/tmp/ipykernel_5088/3217358265.py:1: SyntaxWarning: \"is\" with 'int' literal. Did you mean \"==\"?\n",
      "  print(True is 1)\n",
      "/tmp/ipykernel_5088/3217358265.py:2: SyntaxWarning: \"is\" with 'str' literal. Did you mean \"==\"?\n",
      "  print('1' is 1)\n",
      "/tmp/ipykernel_5088/3217358265.py:3: SyntaxWarning: \"is\" with 'int' literal. Did you mean \"==\"?\n",
      "  print([] is 1)\n",
      "/tmp/ipykernel_5088/3217358265.py:4: SyntaxWarning: \"is\" with 'int' literal. Did you mean \"==\"?\n",
      "  print(10 is 10.0)\n"
     ]
    }
   ],
   "source": [
    "print(True is 1)\n",
    "print('1' is 1)\n",
    "print([] is 1)\n",
    "print(10 is 10.0)\n",
    "print([1,2,3] is [1,2,3])"
   ]
  },
  {
   "cell_type": "code",
   "execution_count": 1,
   "id": "5de12f41-38cf-49a2-9566-e6d3e0b3b5f1",
   "metadata": {},
   "outputs": [
    {
     "name": "stdout",
     "output_type": "stream",
     "text": [
      "False\n"
     ]
    }
   ],
   "source": [
    "a = [1,2,3]\n",
    "b = [1,2,3]\n",
    "print(a is b )"
   ]
  },
  {
   "cell_type": "code",
   "execution_count": 2,
   "id": "6366b70f-a6e5-49fc-ac36-af4eabfd0e27",
   "metadata": {},
   "outputs": [
    {
     "name": "stdout",
     "output_type": "stream",
     "text": [
      "True\n"
     ]
    }
   ],
   "source": [
    "a = [1,2,3]\n",
    "b = [1,2,3]\n",
    "a = b            # makes a same location in memory\n",
    "print(a is b )"
   ]
  },
  {
   "cell_type": "markdown",
   "id": "d5051daf-1b2b-4199-a81f-f0468db16c34",
   "metadata": {},
   "source": [
    "# For loops"
   ]
  },
  {
   "cell_type": "code",
   "execution_count": 4,
   "id": "9bb89c6f-58f9-48bf-974c-f3a32339daa5",
   "metadata": {},
   "outputs": [
    {
     "name": "stdout",
     "output_type": "stream",
     "text": [
      "A\n",
      "d\n",
      "i\n",
      "t\n",
      "y\n",
      "a\n"
     ]
    }
   ],
   "source": [
    "for item in 'Aditya':   #For stirngs\n",
    "    print(item)"
   ]
  },
  {
   "cell_type": "code",
   "execution_count": 7,
   "id": "dc7d6829-bb95-4ed8-9d22-4bb6c3e6b438",
   "metadata": {},
   "outputs": [
    {
     "name": "stdout",
     "output_type": "stream",
     "text": [
      "1\n",
      "2\n",
      "3\n",
      "4\n",
      "5\n"
     ]
    }
   ],
   "source": [
    "for item in [1,2,3,4,5]:    # For list\n",
    "     print(item)"
   ]
  },
  {
   "cell_type": "code",
   "execution_count": 8,
   "id": "3321b056-b7cf-4e1e-8287-d2a2a6c74a50",
   "metadata": {},
   "outputs": [
    {
     "name": "stdout",
     "output_type": "stream",
     "text": [
      "1\n",
      "2\n",
      "3\n",
      "4\n",
      "5\n"
     ]
    }
   ],
   "source": [
    "for item in (1,2,3,4,5):    # For tuples\n",
    "    print(item)"
   ]
  },
  {
   "cell_type": "code",
   "execution_count": 9,
   "id": "da56206b-129f-44d1-b2b6-595ccdeead20",
   "metadata": {},
   "outputs": [
    {
     "name": "stdout",
     "output_type": "stream",
     "text": [
      "A\n",
      "d\n",
      "i\n",
      "t\n",
      "y\n",
      "a\n",
      "a\n"
     ]
    }
   ],
   "source": [
    "for item in 'Aditya':   #For stirngs\n",
    "    print(item)\n",
    "print(item)             # items latest value is `a`"
   ]
  },
  {
   "cell_type": "code",
   "execution_count": 10,
   "id": "b405322b-0152-4434-865e-8179e062d8ed",
   "metadata": {},
   "outputs": [
    {
     "name": "stdout",
     "output_type": "stream",
     "text": [
      "1 a\n",
      "1 b\n",
      "1 c\n",
      "2 a\n",
      "2 b\n",
      "2 c\n",
      "3 a\n",
      "3 b\n",
      "3 c\n",
      "4 a\n",
      "4 b\n",
      "4 c\n",
      "5 a\n",
      "5 b\n",
      "5 c\n"
     ]
    }
   ],
   "source": [
    "for item in [1,2,3,4,5]:          # Nested for loops\n",
    "    for x in ['a','b','c']:\n",
    "        print(item , x )"
   ]
  },
  {
   "cell_type": "markdown",
   "id": "da26fc2c-a78b-4b96-b03d-7cc236cb8dbd",
   "metadata": {},
   "source": [
    "### `For` loops for Dictionary"
   ]
  },
  {
   "cell_type": "code",
   "execution_count": 2,
   "id": "1acbd7ce-9fdf-4d3e-ae8c-116fb6eb6393",
   "metadata": {},
   "outputs": [
    {
     "name": "stdout",
     "output_type": "stream",
     "text": [
      "name\n",
      "age\n",
      "can_swim\n"
     ]
    }
   ],
   "source": [
    "user = {\n",
    "    'name' : 'Golem',\n",
    "    'age' : 23,\n",
    "    'can_swim' : True\n",
    "}\n",
    "\n",
    "# To print keys of dictionary\n",
    "for item in user:\n",
    "    print (item)"
   ]
  },
  {
   "cell_type": "code",
   "execution_count": 3,
   "id": "9650f754-43e2-42c6-905a-8793b54723ac",
   "metadata": {},
   "outputs": [
    {
     "name": "stdout",
     "output_type": "stream",
     "text": [
      "Golem\n",
      "23\n",
      "True\n"
     ]
    }
   ],
   "source": [
    "# To print values of dictionary\n",
    "for item in user.values():\n",
    "    print(item)"
   ]
  },
  {
   "cell_type": "code",
   "execution_count": 4,
   "id": "26162d85-81c6-4ec8-8beb-0f3242c26ba7",
   "metadata": {},
   "outputs": [
    {
     "name": "stdout",
     "output_type": "stream",
     "text": [
      "('name', 'Golem')\n",
      "('age', 23)\n",
      "('can_swim', True)\n"
     ]
    }
   ],
   "source": [
    "for item in user.items():\n",
    "    print(item)"
   ]
  },
  {
   "cell_type": "code",
   "execution_count": 14,
   "id": "dfd34f94-eb7c-4fd9-8592-029e99d3afe6",
   "metadata": {},
   "outputs": [
    {
     "name": "stdout",
     "output_type": "stream",
     "text": [
      "name Golem\n",
      "age 23\n",
      "can_swim True\n"
     ]
    }
   ],
   "source": [
    "for key,value in user.items():\n",
    "    print(key,value)"
   ]
  },
  {
   "cell_type": "markdown",
   "id": "560cc0f5-af6d-443f-8466-d88ca67936d1",
   "metadata": {},
   "source": [
    "# Range function"
   ]
  },
  {
   "cell_type": "code",
   "execution_count": 3,
   "id": "ed6441b4-33d2-4c21-a0e4-1586d649198d",
   "metadata": {},
   "outputs": [
    {
     "name": "stdout",
     "output_type": "stream",
     "text": [
      "range(3, 100)\n"
     ]
    }
   ],
   "source": [
    "print(range(3,100))"
   ]
  },
  {
   "cell_type": "code",
   "execution_count": 10,
   "id": "1a4288bb-8e8d-4a35-b315-4f7b8bac735c",
   "metadata": {},
   "outputs": [
    {
     "name": "stdout",
     "output_type": "stream",
     "text": [
      "[0, 1, 2, 3, 4, 5, 6, 7, 8, 9]\n"
     ]
    }
   ],
   "source": [
    "print(list(range(10)))"
   ]
  },
  {
   "cell_type": "code",
   "execution_count": 5,
   "id": "89a819ad-5c61-418b-9709-578f866999d3",
   "metadata": {},
   "outputs": [
    {
     "name": "stdout",
     "output_type": "stream",
     "text": [
      "0\n",
      "1\n",
      "2\n",
      "3\n",
      "4\n",
      "5\n",
      "6\n",
      "7\n",
      "8\n",
      "9\n"
     ]
    }
   ],
   "source": [
    "for number in range(10):\n",
    "    print(number)"
   ]
  },
  {
   "cell_type": "code",
   "execution_count": 6,
   "id": "9bce7631-d28b-4315-a947-74ac93fafc5b",
   "metadata": {},
   "outputs": [
    {
     "name": "stdout",
     "output_type": "stream",
     "text": [
      "2\n",
      "4\n",
      "6\n",
      "8\n",
      "10\n",
      "12\n",
      "14\n",
      "16\n",
      "18\n"
     ]
    }
   ],
   "source": [
    "for number in range(2,20,2):           #( start , stop , jumpover)\n",
    "    print(number)"
   ]
  },
  {
   "cell_type": "code",
   "execution_count": 9,
   "id": "3ab46c92-3b38-4af2-8dcb-00fb8f403493",
   "metadata": {},
   "outputs": [
    {
     "name": "stdout",
     "output_type": "stream",
     "text": [
      "10\n",
      "9\n",
      "8\n",
      "7\n",
      "6\n",
      "5\n",
      "4\n",
      "3\n"
     ]
    }
   ],
   "source": [
    "for number in range(10,2,-1):          \n",
    "    print(number)"
   ]
  },
  {
   "cell_type": "markdown",
   "id": "1410f3fe-2fa5-4818-aecb-3a42f62d6d9d",
   "metadata": {},
   "source": [
    "# `enumerate` function"
   ]
  },
  {
   "cell_type": "code",
   "execution_count": 13,
   "id": "5ea01d37-bd51-4e6e-8ae9-b8f0db31c2af",
   "metadata": {},
   "outputs": [
    {
     "name": "stdout",
     "output_type": "stream",
     "text": [
      "0 H\n",
      "1 e\n",
      "2 l\n",
      "3 l\n",
      "4 o\n"
     ]
    }
   ],
   "source": [
    "for i , char in enumerate('Hello'):\n",
    "    print(i,char)"
   ]
  },
  {
   "cell_type": "code",
   "execution_count": 14,
   "id": "c5ddd357-dc92-4812-8aaf-556a64b6b888",
   "metadata": {},
   "outputs": [
    {
     "name": "stdout",
     "output_type": "stream",
     "text": [
      "0 1\n",
      "1 2\n",
      "2 3\n",
      "3 4\n"
     ]
    }
   ],
   "source": [
    "for i , char in enumerate([1,2,3,4]):\n",
    "    print(i,char)"
   ]
  },
  {
   "cell_type": "code",
   "execution_count": 17,
   "id": "2d908c1a-b268-4268-a669-5ad87f85235f",
   "metadata": {},
   "outputs": [
    {
     "name": "stdout",
     "output_type": "stream",
     "text": [
      "0 1\n",
      "1 2\n",
      "2 3\n",
      "3 4\n"
     ]
    }
   ],
   "source": [
    "for i , char in enumerate((1,2,3,4)):\n",
    "    print(i,char)"
   ]
  },
  {
   "cell_type": "markdown",
   "id": "efe70841-f1e2-4b60-b48f-56cef19d483e",
   "metadata": {},
   "source": [
    "# While loops"
   ]
  },
  {
   "cell_type": "markdown",
   "id": "a35633f0-993f-40d7-9121-8172d87dbd99",
   "metadata": {},
   "source": [
    "`while` condition:\n",
    "\n",
    "    body to execute\n",
    "    "
   ]
  },
  {
   "cell_type": "code",
   "execution_count": 3,
   "id": "60e97715-3f97-4d68-b497-28c0ede8c348",
   "metadata": {},
   "outputs": [
    {
     "name": "stdout",
     "output_type": "stream",
     "text": [
      "1\n",
      "2\n",
      "3\n",
      "4\n",
      "5\n",
      "6\n",
      "7\n",
      "8\n",
      "9\n",
      "10\n"
     ]
    }
   ],
   "source": [
    "i = 0 \n",
    "while i < 10:\n",
    "    i = i+1  # or i+=1\n",
    "    print(i)\n"
   ]
  },
  {
   "cell_type": "markdown",
   "id": "1f2168bd-9348-4316-8e81-d0125cb677fd",
   "metadata": {},
   "source": [
    "## for vs while loop"
   ]
  },
  {
   "cell_type": "code",
   "execution_count": 7,
   "id": "edc9d2ab-ec58-4885-a620-4a4ec7f6bb5d",
   "metadata": {},
   "outputs": [
    {
     "name": "stdout",
     "output_type": "stream",
     "text": [
      "1\n",
      "2\n",
      "3\n"
     ]
    }
   ],
   "source": [
    "my_list=[1,2,3]\n",
    "i =0 \n",
    "while i < len(my_list):\n",
    "    i+=1\n",
    "    print(i)\n",
    "    "
   ]
  },
  {
   "cell_type": "code",
   "execution_count": 8,
   "id": "a9c77bf2-635c-4dda-8baa-a239a26408a7",
   "metadata": {},
   "outputs": [
    {
     "name": "stdout",
     "output_type": "stream",
     "text": [
      "1\n",
      "2\n",
      "3\n"
     ]
    }
   ],
   "source": [
    "for item in my_list:\n",
    "    print(item)"
   ]
  },
  {
   "cell_type": "markdown",
   "id": "de42e2c7-fc37-413c-8d10-189dd6a0976f",
   "metadata": {},
   "source": [
    "# break , continue and pass"
   ]
  },
  {
   "cell_type": "code",
   "execution_count": 14,
   "id": "67e84c94-518e-41fc-bd4d-7a23c4b787db",
   "metadata": {},
   "outputs": [
    {
     "name": "stdout",
     "output_type": "stream",
     "text": [
      "0\n",
      "1\n",
      "2\n",
      "3\n",
      "4\n",
      "5\n"
     ]
    }
   ],
   "source": [
    "for i in range(10):   # exits permanently from the loop\n",
    "    if i == 6:\n",
    "        break\n",
    "    print(i)\n",
    "        "
   ]
  },
  {
   "cell_type": "code",
   "execution_count": 15,
   "id": "7f4c55b0-6c34-488c-9212-c3dd7405a32f",
   "metadata": {},
   "outputs": [
    {
     "name": "stdout",
     "output_type": "stream",
     "text": [
      "0\n",
      "1\n",
      "2\n",
      "3\n",
      "4\n",
      "5\n",
      "7\n",
      "8\n",
      "9\n"
     ]
    }
   ],
   "source": [
    "for i in range(10):    # only skips the particular iteration.\n",
    "    if i == 6\n",
    "        continue\n",
    "    print(i)\n",
    "        "
   ]
  },
  {
   "cell_type": "code",
   "execution_count": 18,
   "id": "9834baa8-b7d6-4469-b9df-7f2a82d437de",
   "metadata": {},
   "outputs": [
    {
     "name": "stdout",
     "output_type": "stream",
     "text": [
      "0\n",
      "1\n",
      "2\n",
      "3\n",
      "4\n",
      "5\n",
      "6\n",
      "7\n",
      "8\n",
      "9\n"
     ]
    }
   ],
   "source": [
    "for i in range(10):   # passes to the next line\n",
    "    # user will write the code later\n",
    "    pass\n",
    "        "
   ]
  },
  {
   "cell_type": "code",
   "execution_count": null,
   "id": "81b88596-c2c9-4f8c-b784-08fed515677a",
   "metadata": {},
   "outputs": [],
   "source": []
  }
 ],
 "metadata": {
  "kernelspec": {
   "display_name": "Python 3 (ipykernel)",
   "language": "python",
   "name": "python3"
  },
  "language_info": {
   "codemirror_mode": {
    "name": "ipython",
    "version": 3
   },
   "file_extension": ".py",
   "mimetype": "text/x-python",
   "name": "python",
   "nbconvert_exporter": "python",
   "pygments_lexer": "ipython3",
   "version": "3.12.3"
  }
 },
 "nbformat": 4,
 "nbformat_minor": 5
}
