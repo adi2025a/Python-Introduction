{
 "cells": [
  {
   "cell_type": "markdown",
   "id": "50252d79-fbe1-4c6a-9aed-576597935c08",
   "metadata": {},
   "source": [
    "# Conditional logic"
   ]
  },
  {
   "cell_type": "markdown",
   "id": "a42460a3-ab7d-43c8-a127-cf1c780287ab",
   "metadata": {},
   "source": [
    "## if-else-elif"
   ]
  },
  {
   "cell_type": "code",
   "execution_count": 10,
   "id": "0e8ecfd4-b9a3-49eb-95bd-996be84b016f",
   "metadata": {},
   "outputs": [
    {
     "name": "stdout",
     "output_type": "stream",
     "text": [
      "B\n"
     ]
    }
   ],
   "source": [
    "a = 3\n",
    "\n",
    "if a ==1:                    # condition 1 \n",
    "    print(\"A\")             \n",
    "elif a == 3:                 # condition 2\n",
    "    print(\"B\")\n",
    "else :                       # Deafult body (if not any condition is fullfilled.)\n",
    "    print(\"C\")\n"
   ]
  },
  {
   "cell_type": "markdown",
   "id": "362841be-6645-4e45-913f-b6163ccc861d",
   "metadata": {},
   "source": [
    "# Truthy and Falsey"
   ]
  },
  {
   "cell_type": "code",
   "execution_count": 11,
   "id": "3c8f3ba9-e9e4-46b2-b429-2c0cc632815d",
   "metadata": {},
   "outputs": [
    {
     "name": "stdout",
     "output_type": "stream",
     "text": [
      "True\n"
     ]
    }
   ],
   "source": [
    "print(bool('Hello'))          # Any non empty string is considered as truthy."
   ]
  },
  {
   "cell_type": "code",
   "execution_count": 12,
   "id": "964a403c-1194-4f46-ae55-4fe385689c86",
   "metadata": {},
   "outputs": [
    {
     "name": "stdout",
     "output_type": "stream",
     "text": [
      "False\n"
     ]
    }
   ],
   "source": [
    "print(bool(''))               # Empty strings is considered as falsey."
   ]
  },
  {
   "cell_type": "code",
   "execution_count": 13,
   "id": "758d518f-d9f6-4cff-b98a-286089490b8c",
   "metadata": {},
   "outputs": [
    {
     "name": "stdout",
     "output_type": "stream",
     "text": [
      "True\n"
     ]
    }
   ],
   "source": [
    "print(bool(5))                # Any non-number is considered as Truthy."
   ]
  },
  {
   "cell_type": "code",
   "execution_count": 14,
   "id": "2cafa2d5-88a6-406b-a1c0-64970a5f763b",
   "metadata": {},
   "outputs": [
    {
     "name": "stdout",
     "output_type": "stream",
     "text": [
      "False\n"
     ]
    }
   ],
   "source": [
    "print(bool(0))                # Zero is considered as Falsey."
   ]
  },
  {
   "cell_type": "markdown",
   "id": "eec8cf26-a39c-4af9-83f0-f1c8f90a5fd3",
   "metadata": {},
   "source": [
    "# Ternary Operator "
   ]
  },
  {
   "cell_type": "markdown",
   "id": "bb07678d-da4e-4c99-9d91-c35b1907dae7",
   "metadata": {},
   "source": [
    "if true `if` conditon `else` if false "
   ]
  },
  {
   "cell_type": "code",
   "execution_count": null,
   "id": "b15f59bb-ca1e-4b29-a977-60edbb580050",
   "metadata": {},
   "outputs": [],
   "source": []
  }
 ],
 "metadata": {
  "kernelspec": {
   "display_name": "Python 3 (ipykernel)",
   "language": "python",
   "name": "python3"
  },
  "language_info": {
   "codemirror_mode": {
    "name": "ipython",
    "version": 3
   },
   "file_extension": ".py",
   "mimetype": "text/x-python",
   "name": "python",
   "nbconvert_exporter": "python",
   "pygments_lexer": "ipython3",
   "version": "3.12.3"
  }
 },
 "nbformat": 4,
 "nbformat_minor": 5
}
