{
 "cells": [
  {
   "cell_type": "markdown",
   "id": "d65034f6-d4ff-4b67-9d2a-e4587733b039",
   "metadata": {},
   "source": [
    "<img src =\"python1.jpeg\"/>"
   ]
  },
  {
   "cell_type": "markdown",
   "id": "ca92642f-47ec-4247-8249-b29fce6df9c3",
   "metadata": {},
   "source": [
    "# Printing "
   ]
  },
  {
   "cell_type": "code",
   "execution_count": 2,
   "id": "a866aebb-0eeb-4959-a4e0-137396ed8284",
   "metadata": {},
   "outputs": [
    {
     "name": "stdout",
     "output_type": "stream",
     "text": [
      "Aditya Singh\n",
      "Aditya Singh\n"
     ]
    }
   ],
   "source": [
    "print(\"Aditya Singh\")\n",
    "#Or\n",
    "print('Aditya Singh')"
   ]
  },
  {
   "cell_type": "markdown",
   "id": "b6ddc1d8-d716-4163-abda-500c20ea06ce",
   "metadata": {},
   "source": [
    "# Taking input"
   ]
  },
  {
   "cell_type": "code",
   "execution_count": 3,
   "id": "164d4093-08dc-46af-b46c-8f4cb7311f1e",
   "metadata": {},
   "outputs": [
    {
     "name": "stdin",
     "output_type": "stream",
     "text": [
      "What is your name ? Aditya Singh\n"
     ]
    },
    {
     "data": {
      "text/plain": [
       "'Aditya Singh'"
      ]
     },
     "execution_count": 3,
     "metadata": {},
     "output_type": "execute_result"
    }
   ],
   "source": [
    "input(\"What is your name ?\")"
   ]
  },
  {
   "cell_type": "code",
   "execution_count": 6,
   "id": "eb1410f8-a9c7-4a65-bbe4-88f2f4c9952f",
   "metadata": {},
   "outputs": [
    {
     "name": "stdin",
     "output_type": "stream",
     "text": [
      "What is your name ? Aditya\n"
     ]
    },
    {
     "name": "stdout",
     "output_type": "stream",
     "text": [
      "hello Aditya\n"
     ]
    }
   ],
   "source": [
    "name = input('What is your name ?')  # storing input in a variable \"name\"\n",
    "print ('hello ' + name)   "
   ]
  },
  {
   "cell_type": "markdown",
   "id": "a17cdbe0-9e0c-4a96-82e7-2022da795dac",
   "metadata": {},
   "source": [
    "# Python Datatypes"
   ]
  },
  {
   "cell_type": "markdown",
   "id": "c935ddbc-499d-454a-9c89-539a9d2f4a4c",
   "metadata": {},
   "source": [
    "## int and float"
   ]
  },
  {
   "cell_type": "code",
   "execution_count": 3,
   "id": "f3e646b7-9a9f-4404-8378-5a60252f6737",
   "metadata": {},
   "outputs": [
    {
     "name": "stdout",
     "output_type": "stream",
     "text": [
      "6\n",
      "1\n",
      "8\n",
      "<class 'int'>\n"
     ]
    }
   ],
   "source": [
    "#int\n",
    "print(3 + 3)  # Addition\n",
    "print(3 - 2)  # Subtraction\n",
    "print(4*2)    # Multiplication\n",
    "print(type(3))   # type() will print the datatype of any object"
   ]
  },
  {
   "cell_type": "code",
   "execution_count": 4,
   "id": "67338452-114d-4234-bb60-cd5ccbd427bd",
   "metadata": {},
   "outputs": [
    {
     "name": "stdout",
     "output_type": "stream",
     "text": [
      "5.9\n",
      "<class 'float'>\n"
     ]
    }
   ],
   "source": [
    "#float \n",
    "print(3.3 + 2.6) \n",
    "print(type(4.6))"
   ]
  },
  {
   "cell_type": "code",
   "execution_count": 5,
   "id": "105cf16c-bfac-48af-801e-de7326d8be38",
   "metadata": {},
   "outputs": [
    {
     "name": "stdout",
     "output_type": "stream",
     "text": [
      "<class 'float'>\n"
     ]
    }
   ],
   "source": [
    "print(type(20 + 1.1)) "
   ]
  },
  {
   "cell_type": "code",
   "execution_count": 6,
   "id": "84515e31-005b-47c8-a31f-6f6723568769",
   "metadata": {},
   "outputs": [
    {
     "name": "stdout",
     "output_type": "stream",
     "text": [
      "8\n"
     ]
    }
   ],
   "source": [
    "print(2**3)  # a**b means a^b "
   ]
  },
  {
   "cell_type": "code",
   "execution_count": 7,
   "id": "e22a46cf-f030-4f8a-94ba-80102d76f739",
   "metadata": {},
   "outputs": [
    {
     "name": "stdout",
     "output_type": "stream",
     "text": [
      "0\n"
     ]
    }
   ],
   "source": [
    "print(3//4)  # a//b operator round offs the answer of a/b to a integer "
   ]
  },
  {
   "cell_type": "code",
   "execution_count": 8,
   "id": "1dec864e-12d8-40dc-84bd-e93428378881",
   "metadata": {},
   "outputs": [
    {
     "name": "stdout",
     "output_type": "stream",
     "text": [
      "1\n"
     ]
    }
   ],
   "source": [
    "print(5%4)   # a%b gives the remainder of 5/4"
   ]
  },
  {
   "cell_type": "markdown",
   "id": "125af427-1fff-4d1e-9450-36824d150ea7",
   "metadata": {},
   "source": [
    "## Math Function"
   ]
  },
  {
   "cell_type": "code",
   "execution_count": 9,
   "id": "81f9e1c9-3126-46d0-92a6-6d209f09a64f",
   "metadata": {},
   "outputs": [
    {
     "name": "stdout",
     "output_type": "stream",
     "text": [
      "3\n"
     ]
    }
   ],
   "source": [
    "print(round(3.1)) # To round off any number to its closest integer "
   ]
  },
  {
   "cell_type": "code",
   "execution_count": 10,
   "id": "be6fea1f-e5b7-4920-bc42-39f6d6847065",
   "metadata": {},
   "outputs": [
    {
     "name": "stdout",
     "output_type": "stream",
     "text": [
      "20\n"
     ]
    }
   ],
   "source": [
    "print(abs(-20)) # To get absolute value of any nymber"
   ]
  },
  {
   "cell_type": "code",
   "execution_count": 13,
   "id": "e0bdb7ec-629f-44f4-a2bf-729f9c1f67ae",
   "metadata": {},
   "outputs": [
    {
     "name": "stdout",
     "output_type": "stream",
     "text": [
      "0b101\n"
     ]
    }
   ],
   "source": [
    "print(bin(5)) # Changing integer to binary"
   ]
  },
  {
   "cell_type": "code",
   "execution_count": 14,
   "id": "210c9b15-8828-4e07-b902-52537f068234",
   "metadata": {},
   "outputs": [
    {
     "name": "stdout",
     "output_type": "stream",
     "text": [
      "5\n"
     ]
    }
   ],
   "source": [
    "print(int('0b101',2)) # Changing binary to integer (base = 2)"
   ]
  },
  {
   "cell_type": "code",
   "execution_count": 16,
   "id": "c0601791-d1b4-466d-882a-83c189dbaaa6",
   "metadata": {},
   "outputs": [
    {
     "name": "stdout",
     "output_type": "stream",
     "text": [
      "(2+3j)\n"
     ]
    }
   ],
   "source": [
    "print(complex(2,3)) # Complex numbers"
   ]
  },
  {
   "cell_type": "markdown",
   "id": "dc27b4b6-1991-43c8-a280-bd5e9d54a044",
   "metadata": {},
   "source": [
    "# Operator Precedence"
   ]
  },
  {
   "cell_type": "code",
   "execution_count": 11,
   "id": "e2d9e369-20ce-46a9-9d02-aae6c94a4f55",
   "metadata": {},
   "outputs": [
    {
     "name": "stdout",
     "output_type": "stream",
     "text": [
      "8\n"
     ]
    }
   ],
   "source": [
    "# Just like BODMAS in maths \n",
    "print(20-3*4)"
   ]
  },
  {
   "cell_type": "code",
   "execution_count": 12,
   "id": "484b2bc9-25f2-4ee0-be41-592d03ad51ad",
   "metadata": {},
   "outputs": [
    {
     "data": {
      "text/plain": [
       "' 1.()\\n    2.**\\n    3.* /\\n    4.+ - '"
      ]
     },
     "execution_count": 12,
     "metadata": {},
     "output_type": "execute_result"
    }
   ],
   "source": [
    "''' 1.()\n",
    "    2.**\n",
    "    3.* /\n",
    "    4.+ - '''"
   ]
  },
  {
   "cell_type": "markdown",
   "id": "214b1d89-9c3f-4bd7-bb44-99bd303dbe01",
   "metadata": {},
   "source": [
    "# Variables"
   ]
  },
  {
   "cell_type": "code",
   "execution_count": 17,
   "id": "28e109a9-19e0-4a34-a0c1-6f218a060441",
   "metadata": {},
   "outputs": [
    {
     "name": "stdout",
     "output_type": "stream",
     "text": [
      "190\n"
     ]
    }
   ],
   "source": [
    "# To store information in computer\n",
    "iq = 190 \n",
    "print(iq)"
   ]
  },
  {
   "cell_type": "code",
   "execution_count": 2,
   "id": "a51899e5-9056-469c-9815-eba7957aadd1",
   "metadata": {},
   "outputs": [
    {
     "name": "stdout",
     "output_type": "stream",
     "text": [
      "1 2 3\n"
     ]
    }
   ],
   "source": [
    "a,b,c= 1,2,3\n",
    "print(a,b,c)"
   ]
  },
  {
   "cell_type": "markdown",
   "id": "c931c397-d8f7-43e4-96c4-9615b3beda71",
   "metadata": {},
   "source": [
    "<img src = \"python2.jpeg\"/>"
   ]
  },
  {
   "cell_type": "code",
   "execution_count": 18,
   "id": "43f5a5d3-1c7f-459d-9c24-aea408610bf8",
   "metadata": {},
   "outputs": [
    {
     "name": "stdout",
     "output_type": "stream",
     "text": [
      "18\n"
     ]
    }
   ],
   "source": [
    "# snake_case\n",
    "user_age = 18  # Don't use space in variable names instead use underscore\n",
    "print(user_age)"
   ]
  },
  {
   "cell_type": "code",
   "execution_count": 20,
   "id": "5ff26866-2383-4b30-b8c4-ffcde03f2f29",
   "metadata": {},
   "outputs": [
    {
     "ename": "NameError",
     "evalue": "name 'user_AGE' is not defined",
     "output_type": "error",
     "traceback": [
      "\u001b[0;31m---------------------------------------------------------------------------\u001b[0m",
      "\u001b[0;31mNameError\u001b[0m                                 Traceback (most recent call last)",
      "Cell \u001b[0;32mIn[20], line 1\u001b[0m\n\u001b[0;32m----> 1\u001b[0m \u001b[38;5;28mprint\u001b[39m(user_AGE)\n",
      "\u001b[0;31mNameError\u001b[0m: name 'user_AGE' is not defined"
     ]
    }
   ],
   "source": [
    "print(user_AGE) # Case sensitive"
   ]
  },
  {
   "cell_type": "code",
   "execution_count": 21,
   "id": "b9c72def-0a39-45eb-b815-306a1c681909",
   "metadata": {},
   "outputs": [
    {
     "ename": "TypeError",
     "evalue": "'int' object is not callable",
     "output_type": "error",
     "traceback": [
      "\u001b[0;31m---------------------------------------------------------------------------\u001b[0m",
      "\u001b[0;31mTypeError\u001b[0m                                 Traceback (most recent call last)",
      "Cell \u001b[0;32mIn[21], line 2\u001b[0m\n\u001b[1;32m      1\u001b[0m \u001b[38;5;28mprint\u001b[39m \u001b[38;5;241m=\u001b[39m \u001b[38;5;241m3\u001b[39m\n\u001b[0;32m----> 2\u001b[0m \u001b[38;5;28mprint\u001b[39m(\u001b[38;5;28mprint\u001b[39m)\n",
      "\u001b[0;31mTypeError\u001b[0m: 'int' object is not callable"
     ]
    }
   ],
   "source": [
    "print = 3     # Don't use python keywords as variable names \n",
    "print(print)"
   ]
  },
  {
   "cell_type": "markdown",
   "id": "2d5e04dc-78b1-493a-becd-0bdc8477a0d6",
   "metadata": {},
   "source": [
    "# Constant"
   ]
  },
  {
   "cell_type": "code",
   "execution_count": 1,
   "id": "08b60f3a-b2a0-440c-9f27-948f6740bb9f",
   "metadata": {},
   "outputs": [
    {
     "name": "stdout",
     "output_type": "stream",
     "text": [
      "3.14\n"
     ]
    }
   ],
   "source": [
    "PI = 3.14 #make it in capital letters so other programers know it is a constant\n",
    "print(PI)"
   ]
  },
  {
   "cell_type": "markdown",
   "id": "24a3edd4-a9df-481e-bb2f-63a2e2cd1557",
   "metadata": {},
   "source": [
    "# Augmented Assignment operator "
   ]
  },
  {
   "cell_type": "code",
   "execution_count": 4,
   "id": "9014ede7-785b-4f21-9245-d5c857ffee17",
   "metadata": {},
   "outputs": [
    {
     "name": "stdout",
     "output_type": "stream",
     "text": [
      "7\n"
     ]
    }
   ],
   "source": [
    "a = 5\n",
    "a += 2 # meaning a = a + 2\n",
    "print(a)"
   ]
  },
  {
   "cell_type": "code",
   "execution_count": 5,
   "id": "da8c05b7-28df-4db8-9e15-78762df3d9fc",
   "metadata": {},
   "outputs": [
    {
     "name": "stdout",
     "output_type": "stream",
     "text": [
      "5\n"
     ]
    }
   ],
   "source": [
    "b = 8\n",
    "b -= 3 # meaning b = b - 3\n",
    "print(b)"
   ]
  },
  {
   "cell_type": "markdown",
   "id": "729f950a-ffff-44ac-bd96-33c231ce12b2",
   "metadata": {},
   "source": [
    "# String"
   ]
  },
  {
   "cell_type": "code",
   "execution_count": 6,
   "id": "ba0ccc9f-77db-47b0-9af7-cb43752a7d09",
   "metadata": {},
   "outputs": [
    {
     "name": "stdout",
     "output_type": "stream",
     "text": [
      "<class 'str'>\n"
     ]
    }
   ],
   "source": [
    "'Helloo , this is a string !'\n",
    "print(type('Helloo , this is a string !'))"
   ]
  },
  {
   "cell_type": "code",
   "execution_count": 1,
   "id": "a85a3a5f-1975-445b-b539-b36efe421a90",
   "metadata": {},
   "outputs": [
    {
     "name": "stdout",
     "output_type": "stream",
     "text": [
      "hehehehe\n"
     ]
    }
   ],
   "source": [
    "print(\"he\"*4)"
   ]
  },
  {
   "cell_type": "code",
   "execution_count": 7,
   "id": "a2b58907-14be-4228-b81f-b6190b4895af",
   "metadata": {},
   "outputs": [
    {
     "name": "stdout",
     "output_type": "stream",
     "text": [
      " This \n",
      "is \n",
      "a long\n",
      "string or multiline \n",
      "string \n"
     ]
    }
   ],
   "source": [
    "long_string = ''' This \n",
    "is \n",
    "a long\n",
    "string or multiline \n",
    "string '''\n",
    "print(long_string)"
   ]
  },
  {
   "cell_type": "markdown",
   "id": "541c1f31-12a6-4572-88e3-733d32797d13",
   "metadata": {},
   "source": [
    "### String concatinition"
   ]
  },
  {
   "cell_type": "code",
   "execution_count": 12,
   "id": "709e03cb-e0bc-4720-ae6f-e087ea127aa2",
   "metadata": {},
   "outputs": [
    {
     "name": "stdout",
     "output_type": "stream",
     "text": [
      "Aditya Singh\n"
     ]
    }
   ],
   "source": [
    "first_name = 'Aditya '\n",
    "second_name = 'Singh'\n",
    "full_name = first_name + second_name \n",
    "print(full_name)"
   ]
  },
  {
   "cell_type": "code",
   "execution_count": 13,
   "id": "09233595-9ce6-45e6-91c3-b41694e6f4b4",
   "metadata": {},
   "outputs": [
    {
     "data": {
      "text/plain": [
       "12"
      ]
     },
     "execution_count": 13,
     "metadata": {},
     "output_type": "execute_result"
    }
   ],
   "source": [
    "len(full_name)    # To get the length of a string"
   ]
  },
  {
   "cell_type": "markdown",
   "id": "97d76678-f537-4632-8d3f-c2a53eab037a",
   "metadata": {},
   "source": [
    "# Type conversion"
   ]
  },
  {
   "cell_type": "code",
   "execution_count": 11,
   "id": "195c67ca-1f51-4855-b99f-38239886bb05",
   "metadata": {},
   "outputs": [
    {
     "name": "stdout",
     "output_type": "stream",
     "text": [
      "100\n"
     ]
    }
   ],
   "source": [
    "print(str(100))"
   ]
  },
  {
   "cell_type": "code",
   "execution_count": 12,
   "id": "955af010-c8f9-4c71-a64f-61c9727b647a",
   "metadata": {},
   "outputs": [
    {
     "name": "stdout",
     "output_type": "stream",
     "text": [
      "<class 'str'>\n"
     ]
    }
   ],
   "source": [
    "print(type(str(100)))"
   ]
  },
  {
   "cell_type": "code",
   "execution_count": 13,
   "id": "9002da9e-e31a-46ae-89c1-8f0460244317",
   "metadata": {},
   "outputs": [
    {
     "name": "stdout",
     "output_type": "stream",
     "text": [
      "<class 'int'>\n"
     ]
    }
   ],
   "source": [
    "print(type(int(str(100))))"
   ]
  },
  {
   "cell_type": "markdown",
   "id": "c4be6bc0-e2a7-4d17-a8a4-783124c0d4db",
   "metadata": {},
   "source": [
    "# Escape Sequence"
   ]
  },
  {
   "cell_type": "code",
   "execution_count": 14,
   "id": "afde172c-c402-4f79-aa68-8377c940fd5b",
   "metadata": {},
   "outputs": [
    {
     "name": "stdout",
     "output_type": "stream",
     "text": [
      "\n"
     ]
    }
   ],
   "source": [
    "print('  ''  ')"
   ]
  },
  {
   "cell_type": "code",
   "execution_count": 18,
   "id": "1eb071a0-8a0c-41d4-9662-1c7752b03325",
   "metadata": {},
   "outputs": [
    {
     "name": "stdout",
     "output_type": "stream",
     "text": [
      "  ''  \n"
     ]
    }
   ],
   "source": [
    "print('  \\'\\'  ')  # To print '' use \\' instead of using only '"
   ]
  },
  {
   "cell_type": "code",
   "execution_count": 21,
   "id": "ab634248-9143-4afe-bf47-f27898cb03a2",
   "metadata": {},
   "outputs": [
    {
     "name": "stdout",
     "output_type": "stream",
     "text": [
      "\t Hello\n"
     ]
    }
   ],
   "source": [
    "# \\t means tab \n",
    "print(\"\\t Hello\")"
   ]
  },
  {
   "cell_type": "code",
   "execution_count": 22,
   "id": "154d1969-4657-4c65-93f5-67258b42b655",
   "metadata": {},
   "outputs": [
    {
     "name": "stdout",
     "output_type": "stream",
     "text": [
      "Hello \n",
      " learner\n"
     ]
    }
   ],
   "source": [
    "# \\n means next line \n",
    "print(\"Hello \\n learner\")"
   ]
  },
  {
   "cell_type": "markdown",
   "id": "3040b23d-55a3-4ac9-a7b9-116e9a3c31b9",
   "metadata": {},
   "source": [
    "# Formated string"
   ]
  },
  {
   "cell_type": "code",
   "execution_count": 26,
   "id": "cb01433d-acf6-44f0-944e-145c554b9649",
   "metadata": {},
   "outputs": [
    {
     "name": "stdout",
     "output_type": "stream",
     "text": [
      "hi John You are 55 years old\n"
     ]
    }
   ],
   "source": [
    "name = 'John'\n",
    "age = 55\n",
    "print(f'hi {name} You are {age} years old')"
   ]
  },
  {
   "cell_type": "code",
   "execution_count": 28,
   "id": "9b47f610-50f1-494c-91fb-7e6ef029cb2a",
   "metadata": {},
   "outputs": [
    {
     "name": "stdout",
     "output_type": "stream",
     "text": [
      "hi John You are 55 years old\n"
     ]
    }
   ],
   "source": [
    "print('hi {} You are {} years old'.format(name,age))"
   ]
  },
  {
   "cell_type": "code",
   "execution_count": 29,
   "id": "b63c6ee8-7126-40c0-913c-a2cd76721903",
   "metadata": {},
   "outputs": [
    {
     "name": "stdout",
     "output_type": "stream",
     "text": [
      "hi 55 You are John years old\n"
     ]
    }
   ],
   "source": [
    "print('hi {1} You are {0} years old'.format(name,age))"
   ]
  },
  {
   "cell_type": "markdown",
   "id": "0cebccce-0865-4e17-87a3-86d0c6eaf345",
   "metadata": {},
   "source": [
    "# String indexes"
   ]
  },
  {
   "cell_type": "code",
   "execution_count": 1,
   "id": "9e4a6999-e294-4078-b63b-7ce99dbd0d0b",
   "metadata": {},
   "outputs": [
    {
     "data": {
      "text/plain": [
       "'A'"
      ]
     },
     "execution_count": 1,
     "metadata": {},
     "output_type": "execute_result"
    }
   ],
   "source": [
    "str_1 = 'Aditya'    #Aditya\n",
    "str_1[0]            #012345"
   ]
  },
  {
   "cell_type": "code",
   "execution_count": 3,
   "id": "bcd968b9-429d-4059-8a8b-655efbd7fe7c",
   "metadata": {},
   "outputs": [
    {
     "data": {
      "text/plain": [
       "'y'"
      ]
     },
     "execution_count": 3,
     "metadata": {},
     "output_type": "execute_result"
    }
   ],
   "source": [
    "str_1[4]"
   ]
  },
  {
   "cell_type": "code",
   "execution_count": 5,
   "id": "55c327f7-4211-410b-9bc2-c9a507929131",
   "metadata": {},
   "outputs": [
    {
     "data": {
      "text/plain": [
       "'ity'"
      ]
     },
     "execution_count": 5,
     "metadata": {},
     "output_type": "execute_result"
    }
   ],
   "source": [
    "str_1[2:5]"
   ]
  },
  {
   "cell_type": "code",
   "execution_count": 6,
   "id": "e1d62e5a-e485-4207-9896-c6fef5d05d09",
   "metadata": {},
   "outputs": [
    {
     "data": {
      "text/plain": [
       "'dta'"
      ]
     },
     "execution_count": 6,
     "metadata": {},
     "output_type": "execute_result"
    }
   ],
   "source": [
    "str_1[1:6:2]   #[start:stop:stepover]"
   ]
  },
  {
   "cell_type": "code",
   "execution_count": 7,
   "id": "816603d7-3afb-462e-bf51-56410c92c747",
   "metadata": {},
   "outputs": [
    {
     "data": {
      "text/plain": [
       "'a'"
      ]
     },
     "execution_count": 7,
     "metadata": {},
     "output_type": "execute_result"
    }
   ],
   "source": [
    "str_1[-1]      # From last "
   ]
  },
  {
   "cell_type": "code",
   "execution_count": 8,
   "id": "c41f4fd4-042d-4fe1-93af-19f4ba8d6762",
   "metadata": {},
   "outputs": [
    {
     "name": "stdout",
     "output_type": "stream",
     "text": [
      "Aditya\n"
     ]
    }
   ],
   "source": [
    "print(str_1)"
   ]
  },
  {
   "cell_type": "markdown",
   "id": "e3119079-fdbc-491e-994d-07b7aeb6cf53",
   "metadata": {},
   "source": [
    "# Strings are immutable"
   ]
  },
  {
   "cell_type": "code",
   "execution_count": 9,
   "id": "e57d33d0-81b9-4309-8270-6fc2db634718",
   "metadata": {},
   "outputs": [
    {
     "ename": "TypeError",
     "evalue": "'str' object does not support item assignment",
     "output_type": "error",
     "traceback": [
      "\u001b[0;31m---------------------------------------------------------------------------\u001b[0m",
      "\u001b[0;31mTypeError\u001b[0m                                 Traceback (most recent call last)",
      "Cell \u001b[0;32mIn[9], line 2\u001b[0m\n\u001b[1;32m      1\u001b[0m string \u001b[38;5;241m=\u001b[39m \u001b[38;5;124m\"\u001b[39m\u001b[38;5;124m123456\u001b[39m\u001b[38;5;124m\"\u001b[39m\n\u001b[0;32m----> 2\u001b[0m string[\u001b[38;5;241m0\u001b[39m] \u001b[38;5;241m=\u001b[39m \u001b[38;5;241m3\u001b[39m\n\u001b[1;32m      3\u001b[0m \u001b[38;5;28mprint\u001b[39m(string)\n",
      "\u001b[0;31mTypeError\u001b[0m: 'str' object does not support item assignment"
     ]
    }
   ],
   "source": [
    "string = \"123456\"\n",
    "string[0] = 3\n",
    "print(string)"
   ]
  },
  {
   "cell_type": "code",
   "execution_count": 10,
   "id": "c25ae7af-56f5-466d-aa05-7283944ff24f",
   "metadata": {},
   "outputs": [
    {
     "name": "stdout",
     "output_type": "stream",
     "text": [
      "3\n"
     ]
    }
   ],
   "source": [
    "string = \"123456\"\n",
    "string = \"3\"      # We can assign new string \n",
    "print(string)"
   ]
  },
  {
   "cell_type": "markdown",
   "id": "668b0c17-9d99-42bf-bea6-df0079b3ce6e",
   "metadata": {},
   "source": [
    "# String methods"
   ]
  },
  {
   "cell_type": "code",
   "execution_count": 17,
   "id": "cbc1a44e-fa1a-4e76-a342-88bbbc7b3e6c",
   "metadata": {},
   "outputs": [
    {
     "name": "stdout",
     "output_type": "stream",
     "text": [
      "TO BE OR NOT TO BE\n",
      "To be or not to be\n"
     ]
    }
   ],
   "source": [
    "quote = \"to be or not to be\"\n",
    "print(quote.upper())\n",
    "print(quote.capitalize())"
   ]
  },
  {
   "cell_type": "code",
   "execution_count": 18,
   "id": "078c7178-520d-44bd-90d6-fe9ed2c3a9b3",
   "metadata": {},
   "outputs": [
    {
     "name": "stdout",
     "output_type": "stream",
     "text": [
      "3\n"
     ]
    }
   ],
   "source": [
    "print(quote.find(\"be\"))"
   ]
  },
  {
   "cell_type": "code",
   "execution_count": 19,
   "id": "24d97196-13a0-4738-9704-c623d657377e",
   "metadata": {},
   "outputs": [
    {
     "name": "stdout",
     "output_type": "stream",
     "text": [
      "to me or not to me\n"
     ]
    }
   ],
   "source": [
    "print(quote.replace(\"be\",\"me\"))"
   ]
  },
  {
   "cell_type": "code",
   "execution_count": 20,
   "id": "26d3068f-a226-4c50-b6f7-b20e006b429c",
   "metadata": {},
   "outputs": [
    {
     "name": "stdout",
     "output_type": "stream",
     "text": [
      "to be or not to be\n"
     ]
    }
   ],
   "source": [
    "print(quote)"
   ]
  },
  {
   "cell_type": "raw",
   "id": "8193b5d0-d80d-4fe8-a4f2-51f382ba8948",
   "metadata": {},
   "source": [
    "capitalize()\tConverts the first character to upper case\n",
    "casefold()\t    Converts string into lower case\n",
    "center()\t    Returns a centered string\n",
    "count()\t        Returns the number of times a specified value occurs in a string\n",
    "encode()\t    Returns an encoded version of the string\n",
    "endswith()\t    Returns true if the string ends with the specified value\n",
    "expandtabs()\tSets the tab size of the string\n",
    "find()\t        Searches the string for a specified value and returns the position of where it was found\n",
    "format()\t    Formats specified values in a string\n",
    "format_map()\tFormats specified values in a string\n",
    "index()\t        Searches the string for a specified value and returns the position of where it was found\n",
    "isalnum()\t    Returns True if all characters in the string are alphanumeric\n",
    "isalpha()\t    Returns True if all characters in the string are in the alphabet\n",
    "isascii()\t    Returns True if all characters in the string are ascii characters\n",
    "isdecimal()\t    Returns True if all characters in the string are decimals\n",
    "isdigit()\t    Returns True if all characters in the string are digits\n",
    "isidentifier()\tReturns True if the string is an identifier\n",
    "islower()\t    Returns True if all characters in the string are lower case\n",
    "isnumeric()\t    Returns True if all characters in the string are numeric\n",
    "isprintable()\tReturns True if all characters in the string are printable\n",
    "isspace()\t    Returns True if all characters in the string are whitespaces\n",
    "istitle()\t    Returns True if the string follows the rules of a title\n",
    "isupper()\t    Returns True if all characters in the string are upper case\n",
    "join()\t        Converts the elements of an iterable into a string\n",
    "ljust()\t        Returns a left justified version of the string\n",
    "lower()\t        Converts a string into lower case\n",
    "lstrip()\t    Returns a left trim version of the string\n",
    "maketrans()\t    Returns a translation table to be used in translations\n",
    "partition()\t    Returns a tuple where the string is parted into three parts\n",
    "replace()\t    Returns a string where a specified value is replaced with a specified value\n",
    "rfind()\t        Searches the string for a specified value and returns the last position of where it was found\n",
    "rindex()\t    Searches the string for a specified value and returns the last position of where it was found\n",
    "rjust()\t        Returns a right justified version of the string\n",
    "rpartition()\tReturns a tuple where the string is parted into three parts\n",
    "rsplit()\t    Splits the string at the specified separator, and returns a list\n",
    "rstrip()\t    Returns a right trim version of the string}\n",
    "split()\t        Splits the string at the specified separator, and returns a list\n",
    "splitlines()\tSplits the string at line breaks and returns a list\n",
    "startswith()\tReturns true if the string starts with the specified value\n",
    "strip()\t        Returns a trimmed version of the string\n",
    "swapcase()\t    Swaps cases, lower case becomes upper case and vice versa\n",
    "title()      \tConverts the first character of each word to upper case\n",
    "translate()\t    Returns a translated string\n",
    "upper()\t        Converts a string into upper case\n",
    "zfill()\t        Fills the string with a specified number of 0 values at the beginning"
   ]
  },
  {
   "cell_type": "markdown",
   "id": "84eb8801-eb03-47b9-b2d6-4cef497fae13",
   "metadata": {},
   "source": [
    "# Booleans"
   ]
  },
  {
   "cell_type": "raw",
   "id": "9679fe08-9c01-4438-9947-d3ddf9adcca0",
   "metadata": {},
   "source": [
    "Gives a value True or False"
   ]
  },
  {
   "cell_type": "code",
   "execution_count": null,
   "id": "beee508e-040e-458d-9474-372c830545c2",
   "metadata": {},
   "outputs": [],
   "source": []
  }
 ],
 "metadata": {
  "kernelspec": {
   "display_name": "Python 3 (ipykernel)",
   "language": "python",
   "name": "python3"
  },
  "language_info": {
   "codemirror_mode": {
    "name": "ipython",
    "version": 3
   },
   "file_extension": ".py",
   "mimetype": "text/x-python",
   "name": "python",
   "nbconvert_exporter": "python",
   "pygments_lexer": "ipython3",
   "version": "3.12.3"
  }
 },
 "nbformat": 4,
 "nbformat_minor": 5
}
